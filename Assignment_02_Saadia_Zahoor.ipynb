{
  "nbformat": 4,
  "nbformat_minor": 0,
  "metadata": {
    "colab": {
      "provenance": [],
      "include_colab_link": true
    },
    "kernelspec": {
      "name": "python3",
      "display_name": "Python 3"
    },
    "language_info": {
      "name": "python"
    }
  },
  "cells": [
    {
      "cell_type": "markdown",
      "metadata": {
        "id": "view-in-github",
        "colab_type": "text"
      },
      "source": [
        "<a href=\"https://colab.research.google.com/github/saadiazahoor/git-tutorial/blob/master/Assignment_02_Saadia_Zahoor.ipynb\" target=\"_parent\"><img src=\"https://colab.research.google.com/assets/colab-badge.svg\" alt=\"Open In Colab\"/></a>"
      ]
    },
    {
      "cell_type": "code",
      "execution_count": null,
      "metadata": {
        "colab": {
          "base_uri": "https://localhost:8080/"
        },
        "id": "P_JHfhp_lEwL",
        "outputId": "91e6e4dc-7c62-4888-bcf7-795dd3411c48"
      },
      "outputs": [
        {
          "output_type": "stream",
          "name": "stdout",
          "text": [
            "enter the string value :frmao\n",
            "count_vowels : 2\n",
            "count_sonsonents : 3\n"
          ]
        }
      ],
      "source": [
        "#1 count vowels and consonents\n",
        "variable= input(\"enter the string value :\")\n",
        "\n",
        "vowels= 'AEIOUaeiou'\n",
        "count_vowels = 0\n",
        "count_consonents = 0\n",
        "for i in variable:\n",
        "  if i in vowels:\n",
        "    count_vowels += 1\n",
        "  else:\n",
        "    count_consonents += 1\n",
        "print ('count_vowels :', count_vowels)\n",
        "print ('count_sonsonents :', count_consonents)"
      ]
    },
    {
      "cell_type": "code",
      "source": [
        "#2 print extension of the filename\n",
        "\n",
        "file_name = input(\"Enter the filename: \")\n",
        "file_extension= file_name.split(\".\")\n",
        "\n",
        "if len(file_extension) > 1 :\n",
        "  print(\"file_name :\", file_extension[-1])\n",
        "else:\n",
        "  print(\"unknown extension\")"
      ],
      "metadata": {
        "colab": {
          "base_uri": "https://localhost:8080/"
        },
        "id": "TTOuV3HPBHFy",
        "outputId": "5bedca37-6fe2-45de-c08a-ccec3969bdc5"
      },
      "execution_count": null,
      "outputs": [
        {
          "output_type": "stream",
          "name": "stdout",
          "text": [
            "Enter the filename: documents\n",
            "unknown extension\n"
          ]
        }
      ]
    },
    {
      "cell_type": "code",
      "source": [
        "#3 check the value exist in the dctionary or not\n",
        "\n",
        "sample_dic = {'a': 100 ,'b': 200, 'c': 300 }\n",
        "value = 200\n",
        "if value in sample_dic.values():\n",
        " print(\"value exist\")\n",
        "\n",
        "else:\n",
        " print(\"value doesn't exist\")"
      ],
      "metadata": {
        "colab": {
          "base_uri": "https://localhost:8080/"
        },
        "id": "cyh_S_XoHVTN",
        "outputId": "1a6e7b77-da90-4c93-f9b0-47be14233f87"
      },
      "execution_count": null,
      "outputs": [
        {
          "output_type": "stream",
          "name": "stdout",
          "text": [
            "value exist\n"
          ]
        }
      ]
    },
    {
      "cell_type": "code",
      "source": [
        "#4 nested tuple \"print the value 20\"\n",
        "\n",
        "tuple1 = (\"Orange\", [10,20,30], (5,15,25))\n",
        "value_20 = tuple1[1][1]\n",
        "print(value_20)"
      ],
      "metadata": {
        "colab": {
          "base_uri": "https://localhost:8080/"
        },
        "id": "snCl0xDkVa0u",
        "outputId": "5566a3fc-9ab0-44a9-c6dc-c58628cf46f7"
      },
      "execution_count": null,
      "outputs": [
        {
          "output_type": "stream",
          "name": "stdout",
          "text": [
            "20\n"
          ]
        }
      ]
    },
    {
      "cell_type": "code",
      "source": [
        "#5 calculate body mass index(BMI)for person in height and weight\n",
        "\n",
        "weight= float(input(\"enter your weight in kilogram: \"))\n",
        "height= float(input(\"enter your height in meters:'\"))\n",
        "\n",
        "def calculate_bmi(weight, height):\n",
        "    bmi= weight / (height**2)\n",
        "    return bmi\n",
        "def interpret_bmi(bmi):\n",
        "\n",
        "    if bmi < 18.5:\n",
        "        return \"Underweight\"\n",
        "    elif 18.5 <= bmi < 25:\n",
        "        return \"Normal weight\"\n",
        "    elif 25 <= bmi < 30:\n",
        "        return \"Overweight\"\n",
        "    else:\n",
        "        return \"Obese\"\n",
        "\n",
        "bmi = calculate_bmi(weight, height)\n",
        "category = interpret_bmi(bmi)\n",
        "\n",
        "print(\"your BMI is: \", bmi)\n",
        "print(\"you are classified as : \" ,category )"
      ],
      "metadata": {
        "colab": {
          "base_uri": "https://localhost:8080/"
        },
        "id": "rWsZxrAZadxt",
        "outputId": "0b4c43f7-7232-490d-e17d-c4a513501166"
      },
      "execution_count": null,
      "outputs": [
        {
          "output_type": "stream",
          "name": "stdout",
          "text": [
            "enter your weight in kilogram: 65\n",
            "enter your height in meters:'2\n",
            "your BMI is:  16.25\n",
            "you are classified as :  Underweight\n"
          ]
        }
      ]
    },
    {
      "cell_type": "code",
      "source": [
        "#6 print character frequency\n",
        "\n",
        "def count_character_frequency(input_string):\n",
        "    \"\"\"\n",
        "    Count the frequency of each character in the input string and return as a dictionary.\n",
        "    \"\"\"\n",
        "    # Initialize an empty dictionary to store character frequencies\n",
        "    char_frequency = {}\n",
        "\n",
        "    # Iterate through each character in the input string\n",
        "    for char in input_string:\n",
        "        # Increment the count for the current character in the dictionary\n",
        "        char_frequency[char] = char_frequency.get(char, 0) + 1\n",
        "\n",
        "    return char_frequency\n",
        "\n",
        "# Prompt the user to input a string\n",
        "user_input = input(\"Enter a string: \")\n",
        "\n",
        "# Call the function to count character frequency\n",
        "frequency_dict = count_character_frequency(user_input)\n",
        "\n",
        "# Print the result as a dictionary\n",
        "print(\"Character frequency:\")\n",
        "print(frequency_dict)"
      ],
      "metadata": {
        "colab": {
          "base_uri": "https://localhost:8080/"
        },
        "id": "2LYEztgdNmtv",
        "outputId": "8bc9f470-e197-428c-a406-61ca6b406cf6"
      },
      "execution_count": null,
      "outputs": [
        {
          "output_type": "stream",
          "name": "stdout",
          "text": [
            "Enter a string: name\n",
            "Character frequency:\n",
            "{'n': 1, 'a': 1, 'm': 1, 'e': 1}\n"
          ]
        }
      ]
    },
    {
      "cell_type": "code",
      "source": [
        "#7 check the valid email address\n",
        "\n",
        "import re\n",
        "\n",
        "def is_valid_email(email):\n",
        "    \"\"\"\n",
        "    Check if the input string is a valid email address using regular expressions.\n",
        "    \"\"\"\n",
        "    # Regular expression pattern for validating email addresses\n",
        "    pattern = r'^[a-zA-Z0-9._%+-]+@[a-zA-Z0-9.-]+\\.[a-zA-Z]{2,}$'\n",
        "\n",
        "    # Match the pattern against the email string\n",
        "    if re.match(pattern, email):\n",
        "        return True\n",
        "    else:\n",
        "        return False\n",
        "\n",
        "\n",
        "# Prompt the user to input an email address\n",
        "email_input = input(\"Enter an email address: \")\n",
        "\n",
        "# Check if the input email address is valid\n",
        "if is_valid_email(email_input):\n",
        "    print(\"Valid email address\")\n",
        "else:\n",
        "    print(\"Invalid email address\")"
      ],
      "metadata": {
        "colab": {
          "base_uri": "https://localhost:8080/"
        },
        "id": "FF9MxAanRHic",
        "outputId": "482e13c2-52c5-462e-e9ef-aea87594654e"
      },
      "execution_count": null,
      "outputs": [
        {
          "output_type": "stream",
          "name": "stdout",
          "text": [
            "Enter an email address: myname@gmail.com\n",
            "Valid email address\n"
          ]
        }
      ]
    },
    {
      "cell_type": "code",
      "source": [
        "#8 sum of the inner tuples\n",
        "\n",
        "def sum_of_inner_tuples(tuple_of_tuples):\n",
        "    \"\"\"\n",
        "    Calculate the sum of elements in each inner tuple of a tuple of tuples.\n",
        "    \"\"\"\n",
        "    for inner_tuple in tuple_of_tuples:\n",
        "        inner_sum = sum(inner_tuple)\n",
        "        print(\"Sum of elements in inner tuple\", inner_tuple, \":\", inner_sum)\n",
        "\n",
        "# Example tuple of tuples\n",
        "tuple_of_tuples = ((1, 2, 3), (4, 5, 6), (7, 8, 9))\n",
        "\n",
        "# Calculate and print the sum of elements in each inner tuple\n",
        "sum_of_inner_tuples(tuple_of_tuples)"
      ],
      "metadata": {
        "colab": {
          "base_uri": "https://localhost:8080/"
        },
        "id": "JKD-YZ6tlWof",
        "outputId": "6733b5d7-287e-48e1-da84-5a0b58ec37e7"
      },
      "execution_count": null,
      "outputs": [
        {
          "output_type": "stream",
          "name": "stdout",
          "text": [
            "Sum of elements in inner tuple (1, 2, 3) : 6\n",
            "Sum of elements in inner tuple (4, 5, 6) : 15\n",
            "Sum of elements in inner tuple (7, 8, 9) : 24\n"
          ]
        }
      ]
    },
    {
      "cell_type": "code",
      "source": [
        "#9 def is_prime(n):\n",
        "\n",
        "def is_prime(n):\n",
        "    \"\"\"\n",
        "    Check if a number is prime.\n",
        "    \"\"\"\n",
        "    if n <= 1:\n",
        "        return False\n",
        "    elif n <= 3:\n",
        "        return True\n",
        "    elif n % 2 == 0 or n % 3 == 0:\n",
        "        return False\n",
        "    i = 5\n",
        "    while i * i <= n:\n",
        "        if n % i == 0 or n % (i + 2) == 0:\n",
        "            return False\n",
        "        i += 6\n",
        "    return True\n",
        "\n",
        "# Create a list containing the first ten numbers\n",
        "numbers = list(range(1, 11))\n",
        "\n",
        "# Filter prime numbers from the list\n",
        "prime_numbers = [num for num in numbers if is_prime(num)]\n",
        "\n",
        "# Print the first three prime numbers\n",
        "print(\"First three prime numbers:\", prime_numbers[:3])"
      ],
      "metadata": {
        "colab": {
          "base_uri": "https://localhost:8080/"
        },
        "id": "Vw4y3FnemmmW",
        "outputId": "213c79e3-cfae-44a6-d6f7-d9b6fc4f8b2d"
      },
      "execution_count": null,
      "outputs": [
        {
          "output_type": "stream",
          "name": "stdout",
          "text": [
            "First three prime numbers: [2, 3, 5]\n"
          ]
        }
      ]
    },
    {
      "cell_type": "code",
      "source": [
        "#10 sort the students grades\n",
        "\n",
        "students = [\n",
        "    {\"name\": \"John\", \"age\": 20, \"grade\": 85},\n",
        "    {\"name\": \"Alice\", \"age\": 22, \"grade\": 90},\n",
        "    {\"name\": \"Bob\", \"age\": 21, \"grade\": 80}\n",
        "]\n",
        "\n",
        "# Sort students by grades in descending order\n",
        "sorted_students = sorted(students, key=lambda x: x[\"grade\"], reverse=True)\n",
        "\n",
        "# Print the sorted list\n",
        "print(\"Students sorted by grades in descending order:\")\n",
        "for student in sorted_students:\n",
        "    print(\"Name:\", student[\"name\"], \"- Age:\", student[\"age\"], \"- Grade:\", student[\"grade\"])"
      ],
      "metadata": {
        "colab": {
          "base_uri": "https://localhost:8080/"
        },
        "id": "HOjy_qiqoVD2",
        "outputId": "287d7dd2-1463-4076-d9d3-b05d0462336e"
      },
      "execution_count": null,
      "outputs": [
        {
          "output_type": "stream",
          "name": "stdout",
          "text": [
            "Students sorted by grades in descending order:\n",
            "Name: Alice - Age: 22 - Grade: 90\n",
            "Name: John - Age: 20 - Grade: 85\n",
            "Name: Bob - Age: 21 - Grade: 80\n"
          ]
        }
      ]
    },
    {
      "cell_type": "code",
      "source": [
        "# 11  create a program that takes multiple numbers seprated by commas\n",
        "\n",
        "input_str = input(\"Enter multiple numbers separated by commas: \")\n",
        "\n",
        "# Split the input string into individual numbers\n",
        "numbers = input_str.split(\",\")\n",
        "\n",
        "# Convert the numbers to integers and remove leading/trailing whitespaces\n",
        "numbers = [int(num.strip()) for num in numbers]\n",
        "\n",
        "# Get unique values using a set\n",
        "unique_values = set(numbers)\n",
        "\n",
        "# Calculate the total number of unique values\n",
        "total_unique_values = len(unique_values)\n",
        "\n",
        "# Print the total number of unique values and the unique values themselves\n",
        "print(\"Total number of unique values:\", total_unique_values)\n",
        "print(\"Unique values in the list:\", sorted(list(unique_values)))"
      ],
      "metadata": {
        "colab": {
          "base_uri": "https://localhost:8080/"
        },
        "id": "_MgFqFZGqb_O",
        "outputId": "41e3dc92-9217-4f76-f592-d8b0644a9bc6"
      },
      "execution_count": null,
      "outputs": [
        {
          "output_type": "stream",
          "name": "stdout",
          "text": [
            "Enter multiple numbers separated by commas: 1,2,3,4,5,6\n",
            "Total number of unique values: 6\n",
            "Unique values in the list: [1, 2, 3, 4, 5, 6]\n"
          ]
        }
      ]
    },
    {
      "cell_type": "code",
      "source": [
        "#12 common elements in list\n",
        "\n",
        "def find_common_elements(list1, list2):\n",
        "    \"\"\"\n",
        "    Find common elements between two lists.\n",
        "    \"\"\"\n",
        "    # Convert lists to sets to remove duplicates\n",
        "    set1 = set(list1)\n",
        "    set2 = set(list2)\n",
        "\n",
        "    # Find common elements using intersection\n",
        "    common_elements = list(set1.intersection(set2))\n",
        "\n",
        "    return common_elements\n",
        "\n",
        "# Example lists\n",
        "list1 = [1, 2, 3, 4, 5]\n",
        "list2 = [4, 5, 6, 7, 8]\n",
        "\n",
        "# Find common elements between the two lists\n",
        "common_elements = find_common_elements(list1, list2)\n",
        "\n",
        "# Print the list containing common elements\n",
        "print(\"Common elements:\", common_elements)"
      ],
      "metadata": {
        "colab": {
          "base_uri": "https://localhost:8080/"
        },
        "id": "TVzPI3ngsXD-",
        "outputId": "346e55af-9435-497c-fea3-8b06d5424a34"
      },
      "execution_count": null,
      "outputs": [
        {
          "output_type": "stream",
          "name": "stdout",
          "text": [
            "Common elements: [4, 5]\n"
          ]
        }
      ]
    },
    {
      "cell_type": "code",
      "source": [
        "#13 two dictionaries as input and merge them\n",
        "\n",
        "def merge_dicts(dict1, dict2):\n",
        "    \"\"\"\n",
        "    Merge two dictionaries into a new dictionary.\n",
        "    If there are common keys, combine their values.\n",
        "    \"\"\"\n",
        "    merged_dict = dict(dict1)  # Create a new dictionary initialized with the first dictionary\n",
        "\n",
        "    # Update the merged dictionary with the contents of the second dictionary\n",
        "    for key, value in dict2.items():\n",
        "        if key in merged_dict:\n",
        "            # If the key already exists in the merged dictionary, combine the values\n",
        "            merged_dict[key] += value\n",
        "        else:\n",
        "            # If the key doesn't exist, add it to the merged dictionary\n",
        "            merged_dict[key] = value\n",
        "\n",
        "    return merged_dict\n",
        "\n",
        "# Input dictionaries\n",
        "dict1 = {'a': 5, 'b': 10, 'c': 15}\n",
        "dict2 = {'b': 20, 'c': 25, 'd': 30}\n",
        "\n",
        "# Merge the dictionaries\n",
        "merged_dictionary = merge_dicts(dict1, dict2)\n",
        "\n",
        "# Print the merged dictionary\n",
        "print(\"Merged dictionary:\", merged_dictionary)"
      ],
      "metadata": {
        "colab": {
          "base_uri": "https://localhost:8080/"
        },
        "id": "_d9fOazGtL0B",
        "outputId": "0001bda4-e572-4865-a0d0-160e473884ae"
      },
      "execution_count": null,
      "outputs": [
        {
          "output_type": "stream",
          "name": "stdout",
          "text": [
            "Merged dictionary: {'a': 5, 'b': 30, 'c': 40, 'd': 30}\n"
          ]
        }
      ]
    },
    {
      "cell_type": "code",
      "source": [
        "#14 write a program that two numbers base an exponent and calculate the result of raising base to the power of exponent\n",
        "\n",
        "def calculate_power(base, exponent):\n",
        "    \"\"\"\n",
        "    Calculate the result of raising base to the power of exponent.\n",
        "    \"\"\"\n",
        "    result = base ** exponent\n",
        "    return result\n",
        "\n",
        "# Input base and exponent from the user\n",
        "base = float(input(\"Enter the base number: \"))\n",
        "exponent = float(input(\"Enter the exponent: \"))\n",
        "\n",
        "# Calculate the result\n",
        "result = calculate_power(base, exponent)\n",
        "\n",
        "# Print the result\n",
        "print(f\"{base} raised to the power of {exponent} is: {result}\")"
      ],
      "metadata": {
        "colab": {
          "base_uri": "https://localhost:8080/"
        },
        "id": "eiGcfUyIukGh",
        "outputId": "4f85ead4-79f7-4cac-9850-5d9a163de35d"
      },
      "execution_count": null,
      "outputs": [
        {
          "output_type": "stream",
          "name": "stdout",
          "text": [
            "Enter the base number: 2\n",
            "Enter the exponent: 4\n",
            "2.0 raised to the power of 4.0 is: 16.0\n"
          ]
        }
      ]
    },
    {
      "cell_type": "code",
      "source": [
        "#15 write a program that a temprature in celcius as input and convert it to farenheit  using the formula\n",
        "\n",
        "def celsius_to_fahrenheit(celsius):\n",
        "    \"\"\"\n",
        "    Convert temperature from Celsius to Fahrenheit.\n",
        "    \"\"\"\n",
        "    fahrenheit = (celsius * 9/5) + 32\n",
        "    return fahrenheit\n",
        "\n",
        "# Input temperature in Celsius from the user\n",
        "celsius = float(input(\"Enter temperature in Celsius: \"))\n",
        "\n",
        "# Convert Celsius to Fahrenheit\n",
        "fahrenheit = celsius_to_fahrenheit(celsius)\n",
        "\n",
        "# Print the result\n",
        "print(f\"{celsius} degrees Celsius is equal to {fahrenheit} degrees Fahrenheit.\")"
      ],
      "metadata": {
        "colab": {
          "base_uri": "https://localhost:8080/"
        },
        "id": "NAabKaaBvYSu",
        "outputId": "fd1ed9d3-c45f-4ec2-bbcf-0bfa9d493caa"
      },
      "execution_count": null,
      "outputs": [
        {
          "output_type": "stream",
          "name": "stdout",
          "text": [
            "Enter temperature in Celsius: 10\n",
            "10.0 degrees Celsius is equal to 50.0 degrees Fahrenheit.\n"
          ]
        }
      ]
    },
    {
      "cell_type": "code",
      "source": [
        "#16 reverse a list without using built in func\n",
        "\n",
        "def reverse_list(lst):\n",
        "    \"\"\"\n",
        "    Reverse a list without using built-in functions.\n",
        "    \"\"\"\n",
        "    # Get the length of the list\n",
        "    length = len(lst)\n",
        "\n",
        "    # Iterate through the list up to its midpoint\n",
        "    for i in range(length // 2):\n",
        "        # Swap elements from the start with elements from the end\n",
        "        lst[i], lst[length - i - 1] = lst[length - i - 1], lst[i]\n",
        "\n",
        "# Example list\n",
        "my_list = [1, 2, 3, 4, 5]\n",
        "\n",
        "# Reverse the list\n",
        "reverse_list(my_list)\n",
        "\n",
        "# Print the reversed list\n",
        "print(\"Reversed list:\", my_list)"
      ],
      "metadata": {
        "colab": {
          "base_uri": "https://localhost:8080/"
        },
        "id": "pr6RasvzCINp",
        "outputId": "35a5dff4-d448-40c1-ffa7-be0f441e43a5"
      },
      "execution_count": null,
      "outputs": [
        {
          "output_type": "stream",
          "name": "stdout",
          "text": [
            "Reversed list: [5, 4, 3, 2, 1]\n"
          ]
        }
      ]
    },
    {
      "cell_type": "code",
      "source": [
        "#17 reverse the string \"Hello world\n",
        "\n",
        "def reverse_string(sentence):\n",
        "    \"\"\"\n",
        "    Reverse the order of words in a string without reversing the individual words.\n",
        "    \"\"\"\n",
        "    # Split the string into words\n",
        "    words = sentence.split()\n",
        "\n",
        "    # Reverse the order of words\n",
        "    reversed_sentence = ' '.join(reversed(words))\n",
        "\n",
        "    return reversed_sentence\n",
        "\n",
        "# Original string\n",
        "original_string = \"hello world\"\n",
        "\n",
        "# Reverse the string without reversing the individual words\n",
        "reversed_string = reverse_string(original_string)\n",
        "\n",
        "# Print the reversed string\n",
        "print(\"Original string:\", original_string)\n",
        "print(\"Reversed string without reversing individual words:\", reversed_string)"
      ],
      "metadata": {
        "colab": {
          "base_uri": "https://localhost:8080/"
        },
        "id": "OUgusT1FDKBL",
        "outputId": "080f52bb-b084-4799-f314-d2f450895567"
      },
      "execution_count": null,
      "outputs": [
        {
          "output_type": "stream",
          "name": "stdout",
          "text": [
            "Original string: hello world\n",
            "Reversed string without reversing individual words: world hello\n"
          ]
        }
      ]
    },
    {
      "cell_type": "code",
      "source": [
        "#18 implement a function is_palindron()\n",
        "\n",
        "def is_palindrome(string):\n",
        "    \"\"\"\n",
        "    Check if a passed string is a palindrome (reads the same forwards and backwards).\n",
        "    \"\"\"\n",
        "    # Convert the string to lowercase and remove non-alphanumeric characters\n",
        "    clean_string = ''.join(char.lower() for char in string if char.isalnum())\n",
        "\n",
        "    # Check if the clean string is equal to its reverse\n",
        "    return clean_string == clean_string[::-1]\n",
        "\n",
        "# Test the function with the string \"radar\"\n",
        "test_string = \"radar\"\n",
        "if is_palindrome(test_string):\n",
        "    print(f\"The string '{test_string}' is a palindrome.\")\n",
        "else:\n",
        "    print(f\"The string '{test_string}' is not a palindrome.\")"
      ],
      "metadata": {
        "colab": {
          "base_uri": "https://localhost:8080/"
        },
        "id": "97NVooWvEIh1",
        "outputId": "14442490-9bce-42fe-a167-d25b916878aa"
      },
      "execution_count": null,
      "outputs": [
        {
          "output_type": "stream",
          "name": "stdout",
          "text": [
            "The string 'radar' is a palindrome.\n"
          ]
        }
      ]
    },
    {
      "cell_type": "code",
      "source": [
        "#19 return a list of the even number\n",
        "\n",
        "def even_numbers(input_list):\n",
        "    \"\"\"\n",
        "    Return a list of even numbers from a given list.\n",
        "    \"\"\"\n",
        "    # Use list comprehension to filter even numbers\n",
        "    even_nums = [num for num in input_list if num % 2 == 0]\n",
        "    return even_nums\n",
        "\n",
        "# Given list input\n",
        "input_list = [2, 5, 3, 7, 9, 53, 10, 32, 65, 76, 98]\n",
        "\n",
        "# Get the list of even numbers\n",
        "even_nums = even_numbers(input_list)\n",
        "\n",
        "# Print the list of even numbers\n",
        "print(\"List of even numbers:\", even_nums)"
      ],
      "metadata": {
        "colab": {
          "base_uri": "https://localhost:8080/"
        },
        "id": "UaT7hxDnFUHw",
        "outputId": "a6a540a7-ca01-4563-e9e0-9e9ab3352835"
      },
      "execution_count": null,
      "outputs": [
        {
          "output_type": "stream",
          "name": "stdout",
          "text": [
            "List of even numbers: [2, 10, 32, 76, 98]\n"
          ]
        }
      ]
    },
    {
      "cell_type": "code",
      "source": [
        "#20 two list keys and values\n",
        "\n",
        "keys = ['a', 'b', 'c']\n",
        "values = [1, 2, 3]\n",
        "\n",
        "# Create a dictionary from the lists using zip\n",
        "result_dict = dict(zip(keys, values))\n",
        "\n",
        "# Print the resulting dictionary\n",
        "print(\"Resulting dictionary:\", result_dict)"
      ],
      "metadata": {
        "colab": {
          "base_uri": "https://localhost:8080/"
        },
        "id": "5_37Rg6LGKkT",
        "outputId": "df90590e-13af-4618-dc54-e4da203af1c4"
      },
      "execution_count": null,
      "outputs": [
        {
          "output_type": "stream",
          "name": "stdout",
          "text": [
            "Resulting dictionary: {'a': 1, 'b': 2, 'c': 3}\n"
          ]
        }
      ]
    }
  ]
}